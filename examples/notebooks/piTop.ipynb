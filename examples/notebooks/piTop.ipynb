{
 "cells": [
  {
   "cell_type": "markdown",
   "metadata": {},
   "source": [
    "# Hello we will be building things"
   ]
  },
  {
   "cell_type": "code",
   "execution_count": 1,
   "metadata": {},
   "source": [
    "#i \"nuget:/home/pi/localNuget\""
   ],
   "outputs": []
  },
  {
   "cell_type": "code",
   "execution_count": 1,
   "metadata": {},
   "source": [
    "#r \"nuget:pi-top\"\r\n",
    "#r \"nuget:pi-top.FoundationKit\""
   ],
   "outputs": []
  },
  {
   "cell_type": "code",
   "execution_count": 1,
   "metadata": {},
   "source": [
    "using PiTop;\r\n",
    "using PiTop.MakerArchitecture.Foundation;\r\n",
    "using PiTop.MakerArchitecture.Foundation.Components;\r\n",
    "using PiTop.MakerArchitecture.Foundation.Sensors;\r\n",
    "using SixLabors.ImageSharp;"
   ],
   "outputs": []
  },
  {
   "cell_type": "code",
   "execution_count": 1,
   "metadata": {},
   "source": [
    "var board = PiTop4Board.Instance;\r\n",
    "var plate = board.GetOrCreatePlate<FoundationPlate>();"
   ],
   "outputs": []
  },
  {
   "cell_type": "code",
   "execution_count": 1,
   "metadata": {},
   "source": [
    "var greenLed = plate.GetOrCreateLed(DigitalPort.D0, Color.Green);"
   ],
   "outputs": []
  },
  {
   "cell_type": "code",
   "execution_count": 1,
   "metadata": {},
   "source": [
    "var amberLed = plate.GetOrCreateLed(DigitalPort.D1, Color.Yellow);"
   ],
   "outputs": []
  },
  {
   "cell_type": "code",
   "execution_count": 1,
   "metadata": {},
   "source": [
    "var redLed = plate.GetOrCreateLed(DigitalPort.D2, Color.Red);"
   ],
   "outputs": []
  },
  {
   "cell_type": "code",
   "execution_count": 1,
   "metadata": {},
   "source": [
    "greenLed.Off();\r\n",
    "amberLed.Off();\r\n",
    "redLed.Off();"
   ],
   "outputs": []
  },
  {
   "cell_type": "code",
   "execution_count": 1,
   "metadata": {},
   "source": [
    "display(plate, JsonFormatter.MimeType);"
   ],
   "outputs": []
  },
  {
   "cell_type": "code",
   "execution_count": 1,
   "metadata": {},
   "source": [
    "plate"
   ],
   "outputs": []
  },
  {
   "cell_type": "code",
   "execution_count": 1,
   "metadata": {},
   "source": [
    "var pot = plate.GetOrCreatePotentiometer(AnaloguePort.A0);"
   ],
   "outputs": []
  },
  {
   "cell_type": "code",
   "execution_count": 1,
   "metadata": {},
   "source": [
    "pot"
   ],
   "outputs": []
  },
  {
   "cell_type": "code",
   "execution_count": 1,
   "metadata": {},
   "source": [
    "plate"
   ],
   "outputs": []
  },
  {
   "cell_type": "code",
   "execution_count": 1,
   "metadata": {},
   "source": [
    "greenLed.On()"
   ],
   "outputs": []
  },
  {
   "cell_type": "code",
   "execution_count": 1,
   "metadata": {},
   "source": [
    "amberLed.On()"
   ],
   "outputs": []
  },
  {
   "cell_type": "code",
   "execution_count": 1,
   "metadata": {},
   "source": [
    "redLed.On()"
   ],
   "outputs": []
  },
  {
   "cell_type": "code",
   "execution_count": 1,
   "metadata": {},
   "source": [
    "var ultraSound = plate.GetOrCreateUltrasonicSensor(DigitalPort.D3);"
   ],
   "outputs": []
  },
  {
   "cell_type": "code",
   "execution_count": 1,
   "metadata": {},
   "source": [
    "ultraSound"
   ],
   "outputs": []
  },
  {
   "cell_type": "code",
   "execution_count": 1,
   "metadata": {},
   "source": [
    "plate"
   ],
   "outputs": []
  },
  {
   "cell_type": "code",
   "execution_count": 1,
   "metadata": {},
   "source": [
    "var distances = new List<double>(){0};\r\n",
    "\r\n",
    "async Task readDistance(int count = 10){   \r\n",
    "    for (var i = 0; i < count; i++){        \r\n",
    "        if(distances.Count > 5){\r\n",
    "            distances.RemoveAt(0);\r\n",
    "        }\r\n",
    "        distances.Add(ultraSound.Distance.Value);\r\n",
    "        await Task.Delay(500);\r\n",
    "    }\r\n",
    "}"
   ],
   "outputs": []
  },
  {
   "cell_type": "code",
   "execution_count": 1,
   "metadata": {},
   "source": [
    "#!js \r\n",
    "\r\n",
    "if (typeof (notebookScope.interval) !== 'undefined') {\r\n",
    "    clearInterval(notebookScope.interval);\r\n",
    "}        \r\n",
    "\r\n",
    "notebookScope.plot = (sgvSelector, variableName) => {   \r\n",
    "    let dtree_require = require.config({\r\n",
    "        paths: {\r\n",
    "            d3: \"https://d3js.org/d3.v5.min\"\r\n",
    "        }\r\n",
    "    }) || require;\r\n",
    "    dtree_require([\"d3\"], function (d3) {       \r\n",
    "        let svg = d3.\r\n",
    "            select(sgvSelector);\r\n",
    "        svg.selectAll(\"defs\").remove();\r\n",
    "        svg.selectAll(\"g\").remove();\r\n",
    "\r\n",
    "        let defs = svg.append(\"defs\");\r\n",
    "\r\n",
    "        let filter = defs.append(\"filter\").attr(\"id\", \"gooeyCodeFilter\");\r\n",
    "\r\n",
    "        filter.append(\"feGaussianBlur\")\r\n",
    "            .attr(\"in\", \"SourceGraphic\")\r\n",
    "            .attr(\"stdDeviation\", \"10\")\r\n",
    "            .attr(\"color-interpolation-filters\", \"sRGB\")\r\n",
    "            .attr(\"result\", \"blur\");\r\n",
    "\r\n",
    "        filter.append(\"feColorMatrix\")\r\n",
    "            .attr(\"in\", \"blur\")\r\n",
    "            .attr(\"mode\", \"matrix\")\r\n",
    "            .attr(\"values\", \"1 0 0 0 0  0 1 0 0 0  0 0 1 0 0  0 0 0 19 -9\")\r\n",
    "            .attr(\"result\", \"gooey\");\r\n",
    "\r\n",
    "        let container = d3\r\n",
    "            .select(sgvSelector)\r\n",
    "            .append(\"g\")\r\n",
    "            .style(\"filter\", \"url(#gooeyCodeFilter)\");\r\n",
    "\r\n",
    "        updateD3Rendering = () => interactive.csharp.getVariable(variableName)\r\n",
    "            .then(data => {\r\n",
    "                container\r\n",
    "                    .selectAll(\".points\")\r\n",
    "                    .data(data, (d, i) => i)\r\n",
    "                    .join(\r\n",
    "                        enter => enter.append(\"circle\")\r\n",
    "                            .attr(\"class\", \"points\")\r\n",
    "                            .attr(\"cy\", 80)\r\n",
    "                            .attr(\"cx\", (d, i) => ((i + 1) * 50))\r\n",
    "                            .transition()\r\n",
    "                            .duration(2000)\r\n",
    "                            .style(\"fill\", d => d3.interpolateTurbo(1 - (d / 50)))\r\n",
    "                            .ease(d3.easeElasticOut.period(1.00))\r\n",
    "                            .attr(\"r\", d => Math.max(0, d)),\r\n",
    "                        update => update\r\n",
    "                            .transition()\r\n",
    "                            .duration(2000)                            \r\n",
    "                            .style(\"fill\", d => d3.interpolateTurbo(1 - (d / 50)))\r\n",
    "                            .attr(\"r\", d => Math.max(0, d)),\r\n",
    "                        exit => exit\r\n",
    "                            .transition()\r\n",
    "                            .duration(1000)                            \r\n",
    "                            .attr(\"r\", 0 )\r\n",
    "                            .remove());\r\n",
    "            });\r\n",
    "        notebookScope.interval = setInterval(() => updateD3Rendering(), 1000);\r\n",
    "    });\r\n",
    "}"
   ],
   "outputs": []
  },
  {
   "cell_type": "code",
   "execution_count": 1,
   "metadata": {},
   "source": [
    "#!html\r\n",
    "<svg id=\"dataPlot1\" width=\"100%\"></svg>\r\n",
    "\r\n",
    "#!js\r\n",
    "notebookScope.plot(\"svg#dataPlot1\", \"distances\");"
   ],
   "outputs": []
  },
  {
   "cell_type": "code",
   "execution_count": 1,
   "metadata": {},
   "source": [
    "await readDistance(20);"
   ],
   "outputs": []
  },
  {
   "cell_type": "code",
   "execution_count": 1,
   "metadata": {},
   "source": [
    "distances"
   ],
   "outputs": []
  }
 ],
 "metadata": {
  "kernelspec": {
   "display_name": ".NET (C#)",
   "language": "C#",
   "name": ".net-csharp"
  },
  "language_info": {
   "file_extension": ".cs",
   "mimetype": "text/x-csharp",
   "name": "C#",
   "pygments_lexer": "csharp",
   "version": "8.0"
  }
 },
 "nbformat": 4,
 "nbformat_minor": 4
}