{
 "cells": [
  {
   "cell_type": "markdown",
   "metadata": {},
   "source": [
    "# Hello we will be building things"
   ]
  },
  {
   "cell_type": "code",
   "execution_count": 1,
   "metadata": {},
   "source": [
    "#i \"nuget:/home/pi/localNuget\""
   ],
   "outputs": []
  },
  {
   "cell_type": "code",
   "execution_count": 1,
   "metadata": {},
   "source": [
    "#r \"nuget:pi-top\"\n",
    "#r \"nuget:pi-top.MakerArchitecture.FoundationKit\""
   ],
   "outputs": []
  },
  {
   "cell_type": "code",
   "execution_count": 1,
   "metadata": {},
   "source": [
    "using PiTop;\n",
    "using PiTop.MakerArchitecture.Foundation;\n",
    "using PiTop.MakerArchitecture.Foundation.Components;\n",
    "using PiTop.MakerArchitecture.Foundation.Sensors;\n",
    "using SixLabors.ImageSharp;\n",
    "using Microsoft.DotNet.Interactive.Formatting;"
   ],
   "outputs": []
  },
  {
   "cell_type": "code",
   "execution_count": 1,
   "metadata": {},
   "source": [
    "var board = PiTop4Board.Instance;\n",
    "var plate = board.GetOrCreatePlate<FoundationPlate>();"
   ],
   "outputs": []
  },
  {
   "cell_type": "code",
   "execution_count": 1,
   "metadata": {},
   "source": [
    "var greenLed = plate.GetOrCreateLed(DigitalPort.D0, Color.Green);"
   ],
   "outputs": []
  },
  {
   "cell_type": "code",
   "execution_count": 1,
   "metadata": {},
   "source": [
    "var amberLed = plate.GetOrCreateLed(DigitalPort.D1, Color.Yellow);"
   ],
   "outputs": []
  },
  {
   "cell_type": "code",
   "execution_count": 1,
   "metadata": {},
   "source": [
    "var redLed = plate.GetOrCreateLed(DigitalPort.D2, Color.Red);"
   ],
   "outputs": []
  },
  {
   "cell_type": "code",
   "execution_count": 1,
   "metadata": {},
   "source": [
    "greenLed.Off();\n",
    "amberLed.Off();\n",
    "redLed.Off();"
   ],
   "outputs": []
  },
  {
   "cell_type": "code",
   "execution_count": 1,
   "metadata": {},
   "source": [
    "display(plate, JsonFormatter.MimeType);"
   ],
   "outputs": []
  },
  {
   "cell_type": "code",
   "execution_count": 1,
   "metadata": {},
   "source": [
    "plate"
   ],
   "outputs": []
  },
  {
   "cell_type": "code",
   "execution_count": 1,
   "metadata": {},
   "source": [
    "var pot = plate.GetOrCreatePotentiometer(AnaloguePort.A0);"
   ],
   "outputs": []
  },
  {
   "cell_type": "code",
   "execution_count": 1,
   "metadata": {},
   "source": [
    "pot"
   ],
   "outputs": []
  },
  {
   "cell_type": "code",
   "execution_count": 1,
   "metadata": {},
   "source": [
    "plate"
   ],
   "outputs": []
  },
  {
   "cell_type": "code",
   "execution_count": 1,
   "metadata": {},
   "source": [
    "greenLed.On()"
   ],
   "outputs": []
  },
  {
   "cell_type": "code",
   "execution_count": 1,
   "metadata": {},
   "source": [
    "amberLed.On()"
   ],
   "outputs": []
  },
  {
   "cell_type": "code",
   "execution_count": 1,
   "metadata": {},
   "source": [
    "redLed.On()"
   ],
   "outputs": []
  },
  {
   "cell_type": "code",
   "execution_count": 1,
   "metadata": {},
   "source": [
    "var ultraSound = plate.GetOrCreateUltrasonicSensor(DigitalPort.D3);"
   ],
   "outputs": []
  },
  {
   "cell_type": "code",
   "execution_count": 1,
   "metadata": {},
   "source": [
    "ultraSound"
   ],
   "outputs": []
  },
  {
   "cell_type": "code",
   "execution_count": 1,
   "metadata": {},
   "source": [
    "plate"
   ],
   "outputs": []
  },
  {
   "cell_type": "code",
   "execution_count": 1,
   "metadata": {},
   "source": [
    "var distances = new List<double>(){0};\n",
    "\n",
    "async Task readDistance(int count = 10){   \n",
    "    for (var i = 0; i < count; i++){        \n",
    "        if(distances.Count > 5){\n",
    "            distances.RemoveAt(0);\n",
    "        }\n",
    "        distances.Add(ultraSound.Distance.Value);\n",
    "        await Task.Delay(500);\n",
    "    }\n",
    "}"
   ],
   "outputs": []
  },
  {
   "cell_type": "code",
   "execution_count": 1,
   "metadata": {},
   "source": [
    "#!js \n",
    "\n",
    "if (typeof (notebookScope.interval) !== 'undefined') {\n",
    "    clearInterval(notebookScope.interval);\n",
    "}        \n",
    "\n",
    "notebookScope.plot = (sgvSelector, variableName) => {   \n",
    "    let dtree_require = require.config({\n",
    "        paths: {\n",
    "            d3: \"https://d3js.org/d3.v5.min\"\n",
    "        }\n",
    "    }) || require;\n",
    "    dtree_require([\"d3\"], function (d3) {       \n",
    "        let svg = d3.\n",
    "            select(sgvSelector);\n",
    "        svg.selectAll(\"defs\").remove();\n",
    "        svg.selectAll(\"g\").remove();\n",
    "\n",
    "        let defs = svg.append(\"defs\");\n",
    "\n",
    "        let filter = defs.append(\"filter\").attr(\"id\", \"gooeyCodeFilter\");\n",
    "\n",
    "        filter.append(\"feGaussianBlur\")\n",
    "            .attr(\"in\", \"SourceGraphic\")\n",
    "            .attr(\"stdDeviation\", \"10\")\n",
    "            .attr(\"color-interpolation-filters\", \"sRGB\")\n",
    "            .attr(\"result\", \"blur\");\n",
    "\n",
    "        filter.append(\"feColorMatrix\")\n",
    "            .attr(\"in\", \"blur\")\n",
    "            .attr(\"mode\", \"matrix\")\n",
    "            .attr(\"values\", \"1 0 0 0 0  0 1 0 0 0  0 0 1 0 0  0 0 0 19 -9\")\n",
    "            .attr(\"result\", \"gooey\");\n",
    "\n",
    "        let container = d3\n",
    "            .select(sgvSelector)\n",
    "            .append(\"g\")\n",
    "            .style(\"filter\", \"url(#gooeyCodeFilter)\");\n",
    "\n",
    "        updateD3Rendering = () => interactive.csharp.getVariable(variableName)\n",
    "            .then(data => {\n",
    "                container\n",
    "                    .selectAll(\".points\")\n",
    "                    .data(data, (d, i) => i)\n",
    "                    .join(\n",
    "                        enter => enter.append(\"circle\")\n",
    "                            .attr(\"class\", \"points\")\n",
    "                            .attr(\"cy\", 80)\n",
    "                            .attr(\"cx\", (d, i) => ((i + 1) * 50))\n",
    "                            .transition()\n",
    "                            .duration(2000)\n",
    "                            .style(\"fill\", d => d3.interpolateTurbo(1 - (d / 50)))\n",
    "                            .ease(d3.easeElasticOut.period(1.00))\n",
    "                            .attr(\"r\", d => Math.max(0, d)),\n",
    "                        update => update\n",
    "                            .transition()\n",
    "                            .duration(2000)                            \n",
    "                            .style(\"fill\", d => d3.interpolateTurbo(1 - (d / 50)))\n",
    "                            .attr(\"r\", d => Math.max(0, d)),\n",
    "                        exit => exit\n",
    "                            .transition()\n",
    "                            .duration(1000)                            \n",
    "                            .attr(\"r\", 0 )\n",
    "                            .remove());\n",
    "            });\n",
    "        notebookScope.interval = setInterval(() => updateD3Rendering(), 1000);\n",
    "    });\n",
    "}"
   ],
   "outputs": []
  },
  {
   "cell_type": "code",
   "execution_count": 1,
   "metadata": {},
   "source": [
    "#!html\n",
    "<svg id=\"dataPlot1\" width=\"100%\"></svg>\n",
    "\n",
    "#!js\n",
    "notebookScope.plot(\"svg#dataPlot1\", \"distances\");"
   ],
   "outputs": []
  },
  {
   "cell_type": "code",
   "execution_count": 1,
   "metadata": {},
   "source": [
    "await readDistance(20);"
   ],
   "outputs": []
  },
  {
   "cell_type": "code",
   "execution_count": 1,
   "metadata": {},
   "source": [
    "distances"
   ],
   "outputs": []
  }
 ],
 "metadata": {
  "kernelspec": {
   "display_name": ".NET (C#)",
   "language": "C#",
   "name": ".net-csharp"
  },
  "language_info": {
   "file_extension": ".cs",
   "mimetype": "text/x-csharp",
   "name": "C#",
   "pygments_lexer": "csharp",
   "version": "8.0"
  }
 },
 "nbformat": 4,
 "nbformat_minor": 4
}