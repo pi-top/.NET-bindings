{
 "cells": [
  {
   "cell_type": "code",
   "execution_count": 1,
   "metadata": {},
   "source": [
    "#!connect signalr --kernel-name rover --hub-url https://pitop-diego.ngrok.io/kernelhub"
   ],
   "outputs": []
  },
  {
   "cell_type": "code",
   "execution_count": 1,
   "metadata": {},
   "source": [
    "#!rover\n",
    "#!reset --all\n",
    ""
   ],
   "outputs": []
  },
  {
   "cell_type": "code",
   "execution_count": 1,
   "metadata": {},
   "source": [
    "#!rover\n",
    "Microsoft.DotNet.Interactive.Formatting.Formatter.ListExpansionLimit = 42;\n",
    "ResourceScanner.CaptureFromCamera(RoverBody.Camera);\n",
    "ResourceScanner.UseUri(new Uri(\"https://lobe-diego.ngrok.io/predict/34bc1074-f2fd-48bd-b473-7d1c4b50cd34\"));\n",
    "//ResourceScanner.UseModel(new DirectoryInfo(\"/home/pi/dotnet_conf_resources/models/v5.3\"));\n",
    "\n",
    "RoverBody.Reset();"
   ],
   "outputs": []
  },
  {
   "cell_type": "code",
   "execution_count": 1,
   "metadata": {},
   "source": [
    "#!rover\n",
    "var testSector = new CameraSector(Angle.FromDegrees(-15), Angle.FromDegrees(-50));\n",
    "RoverBody.TiltController.GoToSector(testSector);\n",
    "Task.Delay(500).Wait();\n",
    "testSector.CapturedFrame = RoverBody.Camera.GetFrame().Focus();\n",
    "testSector.ClassificationResults = ResourceScanner.AnalyseFrame(testSector.CapturedFrame);\n",
    "testSector"
   ],
   "outputs": []
  },
  {
   "cell_type": "code",
   "execution_count": 1,
   "metadata": {},
   "source": [
    "#!rover\n",
    "\n",
    "var scannedSectors = CameraSector\n",
    ".CreateSectors(5,5, Angle.FromDegrees(-60),Angle.FromDegrees(60),Angle.FromDegrees(-15),Angle.FromDegrees(30))\n",
    ".Distinct()\n",
    ".ToArray();\n",
    "CameraSector currentSector = null;"
   ],
   "outputs": []
  },
  {
   "cell_type": "code",
   "execution_count": 1,
   "metadata": {},
   "source": [
    "#!rover\n",
    "\n",
    "bool IsEnergyCard(ClassificationResults result)  => \n",
    "    result != null && !result.Prediction.Label.Contains(\"no energy\");\n",
    "\n",
    "bool AllSectorScanned(IEnumerable<CameraSector> sectors) => \n",
    "    scannedSectors.All(v => v.Marked);\n",
    "\n",
    "bool EnoughEnergyCardsFound(IEnumerable<CameraSector> sectors, int requiredCount) =>\n",
    "    sectors?.Where(s => IsEnergyCard(s.ClassificationResults))\n",
    "           .Select(s => s.ClassificationResults.Prediction.Label)\n",
    "           .Distinct()\n",
    "           .Count() >= requiredCount;\n",
    "\n",
    "bool AllSectorScannedOrEnoughResourceFound(IEnumerable<CameraSector> sectors, int requiredCount) =>\n",
    "    AllSectorScanned(sectors) || EnoughResourcesFound(sectors, requiredCount);\n",
    "\n",
    "bool AnalyseSectorForEnergyCards(CameraSector sector) {\n",
    "    if (sector?.CapturedFrame != null) {        \n",
    "        sector.ClassificationResults = ResourceScanner.AnalyseFrame(sector.CapturedFrame);               \n",
    "        return IsEnergyCard(sector.ClassificationResults);\n",
    "    }\n",
    "    \n",
    "    return false;\n",
    "}"
   ],
   "outputs": []
  },
  {
   "cell_type": "markdown",
   "metadata": {},
   "source": [
    "Reset the state, we track sectors being scanned and the resoruce found"
   ]
  },
  {
   "cell_type": "code",
   "execution_count": 1,
   "metadata": {},
   "source": [
    "#!rover\n",
    "\n",
    "RoverBrain.Perceive = () => {\n",
    "    if (currentSector == null){\n",
    "        return;\n",
    "    }\n",
    "\n",
    "    if (currentSector.CapturedFrame == null) {\n",
    "        Task.Delay(500).Wait();\n",
    "        currentSector.CapturedFrame = RoverBody.Camera.GetFrame().Focus();\n",
    "    }\n",
    "};"
   ],
   "outputs": []
  },
  {
   "cell_type": "code",
   "execution_count": 1,
   "metadata": {},
   "source": [
    "#!rover\n",
    "RoverBody.Reset();"
   ],
   "outputs": []
  },
  {
   "cell_type": "code",
   "execution_count": 1,
   "metadata": {},
   "source": [
    "#!rover\n",
    "RoverBrain.ClearState = () => {\n",
    "    foreach (var sector in scannedSectors) {\n",
    "        sector.Reset();\n",
    "    }\n",
    "\n",
    "    currentSector = null;\n",
    "    RoverBody.Reset();\n",
    "};"
   ],
   "outputs": []
  },
  {
   "cell_type": "markdown",
   "metadata": {},
   "source": [
    "Let's capture the current sector frame"
   ]
  },
  {
   "cell_type": "code",
   "execution_count": 1,
   "metadata": {},
   "source": [
    "#!rover\n",
    "\n",
    "RoverBrain.Act = () => { \n",
    "    if(currentSector != null){\n",
    "        RoverBody.TiltController.GoToSector(currentSector);\n",
    "    }   \n",
    "};"
   ],
   "outputs": []
  },
  {
   "cell_type": "markdown",
   "metadata": {},
   "source": [
    "Define the planning logic:\n",
    "1. Terminate when all sector have been visited and image was aquired\n",
    "2. Classify the current sector if needed\n",
    "3. Blink lights if a classification has been aquired"
   ]
  },
  {
   "cell_type": "code",
   "execution_count": 1,
   "metadata": {},
   "source": [
    "#!rover\n",
    "\n",
    "RoverBrain.Plan = () => {\n",
    "    if (AllSectorScanned(scannedSectors)){\n",
    "        RoverBody.AllLightsOff();\n",
    "        return PlanningResult.NoPlan;\n",
    "    }  \n",
    "\n",
    "    if (currentSector != null) {\n",
    "       \n",
    "        currentSector.Marked = true;\n",
    "    }   \n",
    "    \n",
    "    currentSector = scannedSectors.FirstOrDefault(s => s.Marked == false);\n",
    "    \n",
    "    RoverBody.AllLightsOff();\n",
    "\n",
    "    return currentSector != null \n",
    "        ? PlanningResult.NewPlan \n",
    "        : PlanningResult.NoPlan;    \n",
    "};"
   ],
   "outputs": []
  },
  {
   "cell_type": "code",
   "execution_count": 1,
   "metadata": {},
   "source": [
    "#!rover\n",
    "\n",
    "RoverBrain.Plan = () => {\n",
    "    if (AllSectorScanned(scannedSectors)){\n",
    "        RoverBody.AllLightsOff();\n",
    "        return PlanningResult.NoPlan;\n",
    "    }  \n",
    "\n",
    "    if (currentSector != null) {\n",
    "       \n",
    "        currentSector.Marked = true;\n",
    "    }\n",
    "\n",
    "    if (AnalyseSectorForEnergyCards(currentSector))\n",
    "    {\n",
    "        RoverBody.BlinkAllLights();\n",
    "    }else {\n",
    "        RoverBody.AllLightsOff();\n",
    "    }\n",
    "    \n",
    "    currentSector = scannedSectors.FirstOrDefault(s => s.Marked == false);\n",
    "\n",
    "    RoverBody.AllLightsOff();\n",
    "\n",
    "    return currentSector != null \n",
    "        ? PlanningResult.NewPlan \n",
    "        : PlanningResult.NoPlan;  \n",
    "};"
   ],
   "outputs": []
  },
  {
   "cell_type": "code",
   "execution_count": 1,
   "metadata": {},
   "source": [
    "#!rover\n",
    "\n",
    "RoverBrain.Plan = () => {\n",
    "\n",
    "    if (AllSectorScanned(scannedSectors) || EnoughResourcesFound(scannedSectors, 3)){\n",
    "        RoverBody.AllLightsOff();\n",
    "        return PlanningResult.NoPlan;\n",
    "    }  \n",
    "\n",
    "    if (currentSector != null) {       \n",
    "        currentSector.Marked = true;\n",
    "    }\n",
    "   \n",
    "    if (AnalyseSectorForResource(currentSector))\n",
    "    {\n",
    "        RoverBody.BlinkAllLights();\n",
    "    }else {\n",
    "        RoverBody.AllLightsOff();\n",
    "    }\n",
    "    \n",
    "    currentSector = scannedSectors.FirstOrDefault(s => s.Marked == false);\n",
    "\n",
    "    RoverBody.AllLightsOff();\n",
    "\n",
    "    return currentSector != null \n",
    "        ? PlanningResult.NewPlan \n",
    "        : PlanningResult.NoPlan;  \n",
    "};"
   ],
   "outputs": []
  },
  {
   "cell_type": "markdown",
   "metadata": {},
   "source": [
    "Let's move the camera to the sector we planned to scan"
   ]
  },
  {
   "cell_type": "code",
   "execution_count": 1,
   "metadata": {},
   "source": [
    "#!rover\n",
    "RoverBrain.ClearState();"
   ],
   "outputs": []
  },
  {
   "cell_type": "markdown",
   "metadata": {},
   "source": [
    "Let's explore the sectors"
   ]
  },
  {
   "cell_type": "code",
   "execution_count": 1,
   "metadata": {},
   "source": [
    "#!rover\n",
    "scannedSectors\n",
    "    .Where(s => s.ClassificationResults != null )\n",
    "    .GroupBy(s => s.ClassificationResults.Prediction.Label)\n",
    "    .Select(g => new { Label = g.Key, Count = g.Count()})\n",
    ""
   ],
   "outputs": []
  },
  {
   "cell_type": "code",
   "execution_count": 1,
   "metadata": {},
   "source": [
    "#!rover\n",
    "scannedSectors.Count(s => s.Marked == true)"
   ],
   "outputs": []
  },
  {
   "cell_type": "code",
   "execution_count": 1,
   "metadata": {},
   "source": [
    "#!rover\n",
    "scannedSectors.Where(s => s.Marked == true)"
   ],
   "outputs": []
  },
  {
   "cell_type": "code",
   "execution_count": 1,
   "metadata": {},
   "source": [
    "#!rover\n",
    "scannedSectors"
   ],
   "outputs": []
  },
  {
   "cell_type": "code",
   "execution_count": 1,
   "metadata": {},
   "source": [
    "#!rover\n",
    "currentSector"
   ],
   "outputs": []
  },
  {
   "cell_type": "code",
   "execution_count": 1,
   "metadata": {},
   "source": [
    "#!rover\n",
    "testSector"
   ],
   "outputs": []
  },
  {
   "cell_type": "code",
   "execution_count": 1,
   "metadata": {},
   "source": [
    "#!rover\n",
    "AllSectorScanned(scannedSectors)"
   ],
   "outputs": []
  },
  {
   "cell_type": "code",
   "execution_count": 1,
   "metadata": {},
   "source": [
    "#!rover\n",
    "currentSector = scannedSectors.FirstOrDefault(s => s.Marked == false);"
   ],
   "outputs": []
  }
 ],
 "metadata": {
  "kernelspec": {
   "display_name": ".NET (C#)",
   "language": "C#",
   "name": ".net-csharp"
  },
  "language_info": {
   "file_extension": ".cs",
   "mimetype": "text/x-csharp",
   "name": "C#",
   "pygments_lexer": "csharp",
   "version": "8.0"
  }
 },
 "nbformat": 4,
 "nbformat_minor": 4
}