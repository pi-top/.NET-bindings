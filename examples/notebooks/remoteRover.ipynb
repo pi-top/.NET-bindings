{
 "cells": [
  {
   "cell_type": "code",
   "execution_count": 1,
   "metadata": {},
   "source": [
    "#!connect signalr --kernel-name rover --hub-url https://pitop-diego.ngrok.io/kernelhub"
   ],
   "outputs": []
  },
  {
   "cell_type": "code",
   "execution_count": 1,
   "metadata": {},
   "source": [
    "#!rover\n",
    "resourceScanner.CaptureFromCamera(roverBody.Camera);\n",
    "\n",
    "//resourceScanner.UseModel(new DirectoryInfo(\"/home/pi/dotnet_conf_resources/models/v5.3\"));\n",
    "resourceScanner.UseUri(new Uri(\"https://lobe-diego.ngrok.io/predict/34bc1074-f2fd-48bd-b473-7d1c4b50cd34\"));"
   ],
   "outputs": []
  },
  {
   "cell_type": "code",
   "execution_count": 1,
   "metadata": {},
   "source": [
    "#!rover\n",
    "IEnumerable<CameraSector> scannedSectors = null;\n",
    "CameraSector currentSector = null;"
   ],
   "outputs": []
  },
  {
   "cell_type": "code",
   "execution_count": 1,
   "metadata": {},
   "source": [
    "#!rover\n",
    "void ResetSectors(IEnumerable<CameraSector> sectors){\n",
    "    foreach (var sector in sectors){\n",
    "        sector.Reset();\n",
    "    }\n",
    "}\n",
    "\n",
    "bool IsResource(ClassificationResults result){\n",
    "    return result.Prediction.Label.Contains(\"no energy\") != true;\n",
    "}\n",
    "\n",
    "bool AllSectorScanned(IEnumerable<CameraSector> sectors){\n",
    "    return scannedSectors.All(v => v.Marked);\n",
    "}\n",
    "\n",
    "bool FoundResources(IEnumerable<CameraSector> sectors, int requiredCount){\n",
    "    return sectors.Where(s => s.ClassificationResults!= null && IsResource(s.ClassificationResults))\n",
    "    .Select(s => s.ClassificationResults.Prediction.Label)\n",
    "    .Distinct()\n",
    "    .Count() >= requiredCount;\n",
    "}"
   ],
   "outputs": []
  },
  {
   "cell_type": "code",
   "execution_count": 1,
   "metadata": {},
   "source": [
    "#!rover\n",
    "Microsoft.DotNet.Interactive.Formatting.Formatter.ListExpansionLimit = 25;\n",
    "scannedSectors = CameraSector\n",
    ".CreateSectors(5,5, Angle.FromDegrees(-60),Angle.FromDegrees(60),Angle.FromDegrees(-15),Angle.FromDegrees(30))\n",
    ".Distinct()\n",
    ".ToArray();"
   ],
   "outputs": []
  },
  {
   "cell_type": "markdown",
   "metadata": {},
   "source": [
    "Reset the state, we track sectors being scanned and the resoruce found"
   ]
  },
  {
   "cell_type": "code",
   "execution_count": 1,
   "metadata": {},
   "source": [
    "#!rover\n",
    "roverBody.TiltController.Reset();"
   ],
   "outputs": []
  },
  {
   "cell_type": "code",
   "execution_count": 1,
   "metadata": {},
   "source": [
    "#!rover\n",
    "ResetSectors(scannedSectors);\n",
    "currentSector = null;\n",
    "roverBody.AllLightsOff();\n",
    "roverBody.TiltController.Reset();\n",
    ""
   ],
   "outputs": []
  },
  {
   "cell_type": "markdown",
   "metadata": {},
   "source": [
    "Let's capture the current sector frame"
   ]
  },
  {
   "cell_type": "code",
   "execution_count": 1,
   "metadata": {},
   "source": [
    "#!rover\n",
    "\n",
    "roverBrain.Perceive = (rover, now, token) => {\n",
    "    if(currentSector != null && currentSector.CapturedFrame == null){\n",
    "        Task.Delay(500).Wait();\n",
    "        currentSector.CapturedFrame = roverBody.Camera.GetFrame().Focus();\n",
    "    }\n",
    "};"
   ],
   "outputs": []
  },
  {
   "cell_type": "markdown",
   "metadata": {},
   "source": [
    "Define the planning logic:\n",
    "1. Terminate when all sector have been visited and image was aquired\n",
    "2. Classify the current sector if needed\n",
    "3. Blink lights if a classification has been aquired"
   ]
  },
  {
   "cell_type": "code",
   "execution_count": 1,
   "metadata": {},
   "source": [
    "#!rover\n",
    "\n",
    "roverBrain.Plan = (rover, now, token) => {\n",
    "\n",
    "    if (AllSectorScanned(scannedSectors) || FoundResources(scannedSectors, 4)){\n",
    "        roverBody.AllLightsOff();\n",
    "        return PlanningResult.NoPlan;\n",
    "    }\n",
    "   \n",
    "    if(currentSector != null) {\n",
    "        if(currentSector.CapturedFrame != null) {\n",
    "            currentSector.ClassificationResults = resourceScanner.AnalyseFrame(currentSector.CapturedFrame);\n",
    "            if(currentSector.ClassificationResults!= null && IsResource(currentSector.ClassificationResults)) {\n",
    "                rover.BlinkAllLights();\n",
    "            }\n",
    "            else {\n",
    "                roverBody.AllLightsOff();\n",
    "            }       \n",
    "        }  \n",
    "\n",
    "        currentSector.Marked = true;\n",
    "    }\n",
    "    \n",
    "    currentSector = scannedSectors.FirstOrDefault(s => s.Marked == false);\n",
    "\n",
    "    if(currentSector != null)\n",
    "    {\n",
    "        return PlanningResult.NewPlan;\n",
    "    }\n",
    "\n",
    "    roverBody.AllLightsOff();\n",
    "    return PlanningResult.NoPlan;\n",
    "};"
   ],
   "outputs": []
  },
  {
   "cell_type": "markdown",
   "metadata": {},
   "source": [
    "Let's move the camera to the sector we planned to scan"
   ]
  },
  {
   "cell_type": "code",
   "execution_count": 1,
   "metadata": {},
   "source": [
    "#!rover\n",
    "\n",
    "roverBrain.Act = (rover, now, token) => { \n",
    "    if(currentSector != null){\n",
    "        rover.TiltController.GoToSector(currentSector);\n",
    "    }   \n",
    "};"
   ],
   "outputs": []
  },
  {
   "cell_type": "markdown",
   "metadata": {},
   "source": [
    "Let's explore the sectors"
   ]
  },
  {
   "cell_type": "code",
   "execution_count": 1,
   "metadata": {},
   "source": [
    "#!rover\n",
    "scannedSectors\n",
    "    .Where(s => s.ClassificationResults != null )\n",
    "    .GroupBy(s => s.ClassificationResults.Prediction.Label)\n",
    "    .Select(g => new { Label = g.Key, Count = g.Count()})\n",
    ""
   ],
   "outputs": []
  },
  {
   "cell_type": "code",
   "execution_count": 1,
   "metadata": {},
   "source": [
    "#!rover\n",
    "scannedSectors.Where(s => s.Marked == true)"
   ],
   "outputs": []
  }
 ],
 "metadata": {
  "kernelspec": {
   "display_name": ".NET (C#)",
   "language": "C#",
   "name": ".net-csharp"
  },
  "language_info": {
   "file_extension": ".cs",
   "mimetype": "text/x-csharp",
   "name": "C#",
   "pygments_lexer": "csharp",
   "version": "8.0"
  }
 },
 "nbformat": 4,
 "nbformat_minor": 4
}