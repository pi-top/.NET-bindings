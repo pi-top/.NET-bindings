{
 "cells": [
  {
   "cell_type": "code",
   "execution_count": 1,
   "metadata": {},
   "source": [
    "#!connect signalr --kernel-name rover --hub-url http://10.0.0.252:1024/kernelhub"
   ],
   "outputs": []
  },
  {
   "cell_type": "code",
   "execution_count": 1,
   "metadata": {},
   "source": [
    "#!rover\n",
    "resourceScanner.CaptureFromCamera(roverBody.Camera);\n",
    "var sign = 1;"
   ],
   "outputs": []
  },
  {
   "cell_type": "code",
   "execution_count": 1,
   "metadata": {},
   "source": [
    "#!rover\n",
    "using PiTop.Interactive.Rover.ImageProcessing;\n",
    "using System.Threading;\n",
    "using System.IO;\n",
    "resourceScanner.LoadModel(new DirectoryInfo(\"/home/pi/dotnet_conf_resources/models/v5\"));"
   ],
   "outputs": []
  },
  {
   "cell_type": "code",
   "execution_count": 1,
   "metadata": {},
   "source": [
    "#!rover\n",
    "var frame = roverBody.Camera.GetFrame().Preview();\n",
    "var lastScanResult = resourceScanner.AnalyseFrame(frame);"
   ],
   "outputs": []
  },
  {
   "cell_type": "code",
   "execution_count": 1,
   "metadata": {},
   "source": [
    "#!rover\n",
    "lastScanResult = null;\n",
    "roverBody.AllLightsOff();\n",
    "\n",
    "roverBrain.Perceive = (rover, now, token) => {\n",
    "\n",
    "};\n",
    "\n",
    "roverBrain.Plan = (rover, now, token) => {\n",
    "    Task.Delay(2000).Wait();\n",
    "    return PlanningResult.NoPlan;\n",
    "};\n",
    "\n",
    "roverBrain.Act = (rover, now, token) => { \n",
    "    \n",
    "};"
   ],
   "outputs": []
  },
  {
   "cell_type": "code",
   "execution_count": 1,
   "metadata": {},
   "source": [
    "#!rover\n",
    "//water\n",
    "roverBody.TiltController.Pan = Angle.FromDegrees(50);\n",
    "roverBody.TiltController.Tilt = Angle.FromDegrees(30);\n",
    "await Task.Delay(1000);\n",
    "frame = roverBody.Camera.GetFrame();\n",
    "display(frame.Preview());\n",
    "lastScanResult = resourceScanner.AnalyseFrame(frame);\n",
    "display(lastScanResult?.Classification);"
   ],
   "outputs": []
  },
  {
   "cell_type": "code",
   "execution_count": 1,
   "metadata": {},
   "source": [
    "#!rover\n",
    "//lightning\n",
    "roverBody.TiltController.Pan = Angle.FromDegrees(-90);\n",
    "roverBody.TiltController.Tilt = Angle.FromDegrees(35);\n",
    "await Task.Delay(1000);\n",
    "frame = roverBody.Camera.GetFrame();\n",
    "display(frame.Preview());\n",
    "lastScanResult = resourceScanner.AnalyseFrame(frame);\n",
    "display(lastScanResult?.Classification);"
   ],
   "outputs": []
  },
  {
   "cell_type": "code",
   "execution_count": 1,
   "metadata": {},
   "source": [
    "#!rover\n",
    "//rainbow\n",
    "roverBody.TiltController.Pan = Angle.FromDegrees(-50);\n",
    "roverBody.TiltController.Tilt = Angle.FromDegrees(-5);\n",
    "await Task.Delay(1000);\n",
    "frame = roverBody.Camera.GetFrame();\n",
    "display(frame.Preview());\n",
    "lastScanResult = resourceScanner.AnalyseFrame(frame);\n",
    "display(lastScanResult?.Classification);"
   ],
   "outputs": []
  },
  {
   "cell_type": "code",
   "execution_count": 1,
   "metadata": {},
   "source": [
    "#!rover\n",
    "//grass\n",
    "roverBody.TiltController.Pan = Angle.FromDegrees(25);\n",
    "roverBody.TiltController.Tilt = Angle.FromDegrees(-20);\n",
    "await Task.Delay(1000);\n",
    "frame = roverBody.Camera.GetFrame();\n",
    "display(frame.Preview());\n",
    "lastScanResult = resourceScanner.AnalyseFrame(frame);\n",
    "display(lastScanResult?.Classification);\n",
    ""
   ],
   "outputs": []
  },
  {
   "cell_type": "code",
   "execution_count": 1,
   "metadata": {},
   "source": [
    "#!rover\n",
    "display(frame.Preview());\n",
    "display(lastScanResult.Classification);\n",
    "display(lastScanResult.Classifications);"
   ],
   "outputs": []
  }
 ],
 "metadata": {
  "kernelspec": {
   "display_name": ".NET (C#)",
   "language": "C#",
   "name": ".net-csharp"
  },
  "language_info": {
   "file_extension": ".cs",
   "mimetype": "text/x-csharp",
   "name": "C#",
   "pygments_lexer": "csharp",
   "version": "8.0"
  }
 },
 "nbformat": 4,
 "nbformat_minor": 4
}