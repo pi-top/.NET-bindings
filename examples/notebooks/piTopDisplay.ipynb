{
 "cells": [
  {
   "cell_type": "markdown",
   "metadata": {},
   "source": [
    "# Using the piTop[4] display"
   ]
  },
  {
   "cell_type": "code",
   "execution_count": 1,
   "metadata": {},
   "source": [
    "#i \"nuget:/home/pi/localNuget\""
   ],
   "outputs": []
  },
  {
   "cell_type": "code",
   "execution_count": 1,
   "metadata": {},
   "source": [
    "#r \"nuget:pi-top\"\n",
    "#r \"nuget:pi-top.MakerArchitecture.FoundationKit\"\n",
    "#r \"nuget:SixLabors.Fonts,1.0.0-beta0010\""
   ],
   "outputs": []
  },
  {
   "cell_type": "code",
   "execution_count": 1,
   "metadata": {},
   "source": [
    "using PiTop;\n",
    "using PiTop.Abstractions;\n",
    "using PiTop.MakerArchitecture.Foundation;\n",
    "using PiTop.MakerArchitecture.Foundation.Components;\n",
    "using PiTop.MakerArchitecture.Foundation.Sensors;"
   ],
   "outputs": []
  },
  {
   "cell_type": "code",
   "execution_count": 1,
   "metadata": {},
   "source": [
    "var module = PiTop4Board.Instance;"
   ],
   "outputs": []
  },
  {
   "cell_type": "code",
   "execution_count": 1,
   "metadata": {},
   "source": [
    "var builtinDisplay = module.Display;"
   ],
   "outputs": []
  },
  {
   "cell_type": "code",
   "execution_count": 1,
   "metadata": {},
   "source": [
    "using SixLabors.ImageSharp;\n",
    "using SixLabors.ImageSharp.Drawing;\n",
    "using SixLabors.ImageSharp.Drawing.Processing;\n",
    "\n",
    "builtinDisplay.Draw((d,cr) =>\n",
    "            {\n",
    "                var square = new RectangularPolygon(builtinDisplay.Width / 4, builtinDisplay.Height / 4, builtinDisplay.Width/2, builtinDisplay.Height/2);     \n",
    "                d.Clear(Color.Black);\n",
    "                d.Fill(Color.White, square);\n",
    "            });"
   ],
   "outputs": []
  },
  {
   "cell_type": "code",
   "execution_count": 1,
   "metadata": {},
   "source": [
    "display(builtinDisplay, \"text/html\")"
   ],
   "outputs": []
  },
  {
   "cell_type": "code",
   "execution_count": 1,
   "metadata": {},
   "source": [
    "using System;\n",
    "using SixLabors.Fonts;\n",
    "using SixLabors.ImageSharp;\n",
    "using SixLabors.ImageSharp.Drawing;\n",
    "using SixLabors.ImageSharp.Drawing.Processing;\n",
    "\n",
    "var font = SystemFonts.Collection.Find(\"Roboto\").CreateFont(14);\n",
    "var text = \"Diego was here\";\n",
    "module.Display.Draw((context,cr) => {\n",
    "    context.Clear(Color.Black);\n",
    "    var rect = TextMeasurer.Measure(text, new RendererOptions(font));\n",
    "    var x = (cr.Width - rect.Width) / 2;\n",
    "    var y = (cr.Height + (rect.Height)) / 2;\n",
    "    context.DrawText(text, font, Color.White, new PointF(0, 0));\n",
    "});"
   ],
   "outputs": []
  },
  {
   "cell_type": "code",
   "execution_count": 1,
   "metadata": {},
   "source": [
    "display(builtinDisplay, \"text/html\")"
   ],
   "outputs": []
  },
  {
   "cell_type": "code",
   "execution_count": 1,
   "metadata": {},
   "source": [
    ""
   ],
   "outputs": []
  }
 ],
 "metadata": {
  "kernelspec": {
   "display_name": ".NET (C#)",
   "language": "C#",
   "name": ".net-csharp"
  },
  "language_info": {
   "file_extension": ".cs",
   "mimetype": "text/x-csharp",
   "name": "C#",
   "pygments_lexer": "csharp",
   "version": "8.0"
  }
 },
 "nbformat": 4,
 "nbformat_minor": 4
}